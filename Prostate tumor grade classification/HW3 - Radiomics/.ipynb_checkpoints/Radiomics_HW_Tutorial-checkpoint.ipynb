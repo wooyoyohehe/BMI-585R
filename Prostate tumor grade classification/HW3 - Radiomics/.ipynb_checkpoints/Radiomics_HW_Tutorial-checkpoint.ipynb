{
 "cells": [
  {
   "cell_type": "code",
   "execution_count": 1,
   "metadata": {
    "collapsed": true
   },
   "outputs": [
    {
     "name": "stderr",
     "output_type": "stream",
     "text": [
      "C:\\Users\\rickl\\AppData\\Local\\Programs\\Python\\Python37\\lib\\site-packages\\nilearn\\datasets\\__init__.py:96: FutureWarning: Fetchers from the nilearn.datasets module will be updated in version 0.9 to return python strings instead of bytes and Pandas dataframes instead of Numpy arrays.\n",
      "  \"Numpy arrays.\", FutureWarning)\n"
     ]
    }
   ],
   "source": [
    "\n",
    "from __future__ import print_function\n",
    "import sys\n",
    "import os\n",
    "import logging\n",
    "import six\n",
    "from natsort import os_sorted\n",
    "from radiomics import featureextractor, getFeatureClasses, firstorder, getTestCase, glcm, glrlm, glszm, imageoperations, shape\n",
    "import radiomics\n",
    "import numpy as np\n",
    "import nrrd\n",
    "import SimpleITK as sitk\n",
    "\n",
    "import pandas as pd\n",
    "\n",
    "\n",
    "import pydicom as pdm\n",
    "import nilearn as nl\n",
    "import nilearn.plotting as nlplt\n",
    "import nrrd\n",
    "import h5py\n",
    "\n",
    "import matplotlib.pyplot as plt\n",
    "from matplotlib import cm\n",
    "import matplotlib.animation as anim\n",
    "\n",
    "import imageio\n",
    "from skimage.transform import resize\n",
    "from skimage.util import montage\n",
    "\n",
    "\n",
    "import warnings\n",
    "warnings.simplefilter(\"ignore\")"
   ]
  },
  {
   "cell_type": "code",
   "execution_count": null,
   "metadata": {
    "pycharm": {
     "name": "#%%\n"
    }
   },
   "outputs": [],
   "source": [
    "# Imagepath is the path where MRI patient images are stored\n",
    "# maskPath is the path where corresponding tumor ROIs are stored\n",
    "# clinicalpath is the file containing patient ID/gleason score/ucla (likert score)/PSA level/Tumor target index (ignore)\n",
    "\n",
    "imagePath =\n",
    "maskPath =\n",
    "clinicalpath =\n",
    "\n",
    "\n",
    "# Read in patient ID/gleason score/ucla (likert score)/PSA level/Tumor target index (ignore)\n",
    "df = pd.read_csv(clinicalpath, delimiter = ',')\n",
    "\n",
    "\n",
    "# This method takes MRI image path and returns patient ID\n",
    "def getidfrommr(path):\n",
    "\n",
    "    return path.split('MR data\\\\')[1].split('.nrrd')[0]\n",
    "\n",
    "# This method takes segmentation data path and returns patient ID\n",
    "def getidfromsg(path):\n",
    "    return path.split('seriesUID-')[1].split('.nrrd')[0]\n",
    "\n",
    "# This method takes patient ID and returns ucla Likert score\n",
    "def getgleasonfromid(id):\n",
    "\n",
    "   num = df.loc[df['ids'] == id]['gleason'].values.astype(int)\n",
    "   return num\n",
    "# This method takes patient ID and returns UCLA Likert score\n",
    "def getuclafromid(id):\n",
    "   num = df.loc[df['ids'] == id]['ucla'].values.astype(int)\n",
    "   return num\n",
    "# This method takes patient ID and returns PSA levels.\n",
    "def getpsafromid(id):\n",
    "   num = df.loc[df['ids'] == id]['PSA'].values\n",
    "   return num\n",
    "\n",
    "# This method takes patient ID and returns tumor ROI path\n",
    "def gettargetnum(id):\n",
    "\n",
    "    return df.loc[df['ids'] == id]['target'].astype(int)"
   ]
  },
  {
   "cell_type": "code",
   "execution_count": null,
   "metadata": {
    "pycharm": {
     "name": "#%%\n"
    }
   },
   "outputs": [],
   "source": [
    "# Now you need to start organizing the data. You can use os.walk() to find the MRI files and tumor ROI files,\n",
    "# However, for each patient, you will use the patient ID ( can be found in both excel file and MRI filename and tumor ROI target name)\n",
    "# And match each MRI file to the correct tumor ROI file.\n",
    "# You can use any of the previous method to do this.\n",
    "\n",
    "\n",
    "# This stores the MRI file path\n",
    "each_MR_path = []\n",
    "\n",
    "# This stores the tumor ROI file path\n",
    "each_stl_path = []\n",
    "\n",
    "\n",
    "# This stores the patient ID\n",
    "patient_idx = []"
   ]
  },
  {
   "cell_type": "code",
   "execution_count": 2,
   "metadata": {
    "pycharm": {
     "name": "#%%\n"
    }
   },
   "outputs": [
    {
     "name": "stdout",
     "output_type": "stream",
     "text": [
      "Extraction parameters:\n",
      "\t {'minimumROIDimensions': 2, 'minimumROISize': None, 'normalize': True, 'normalizeScale': 100, 'removeOutliers': None, 'resampledPixelSpacing': [2, 2, 2], 'interpolator': 'sitkBSpline', 'preCrop': False, 'padDistance': 5, 'distances': [1], 'force2D': False, 'force2Ddimension': 0, 'resegmentRange': None, 'label': 1, 'additionalInfo': True, 'binWidth': 5, 'voxelArrayShift': 300}\n",
      "Enabled filters:\n",
      "\t {'Original': {}, 'LoG': {'sigma': [2.0, 3.0, 4.0, 5.0]}, 'Wavelet': {}}\n",
      "Enabled features:\n",
      "\t {'shape': None, 'firstorder': None, 'glcm': ['Autocorrelation', 'JointAverage', 'ClusterProminence', 'ClusterShade', 'ClusterTendency', 'Contrast', 'Correlation', 'DifferenceAverage', 'DifferenceEntropy', 'DifferenceVariance', 'JointEnergy', 'JointEntropy', 'Imc1', 'Imc2', 'Idm', 'Idmn', 'Id', 'Idn', 'InverseVariance', 'MaximumProbability', 'SumEntropy', 'SumSquares'], 'glrlm': None, 'glszm': None, 'gldm': None}\n",
      "\n"
     ]
    }
   ],
   "source": [
    "# Now you can perform feature extraction.\n",
    "# Make sure each patient id in each_MR_path matches the one in each_stl_path before you perform this step!!!\n",
    "\n",
    "# datapyr is the pyradiomics folder. You need to locate this on your PC!\n",
    "datapyr = 'C:\\\\Users\\\\rickl\\PycharmProjects\\pyradiomics'\n",
    "\n",
    "# params is the file path for the feature extraction template. Please go to this folder and select the corresponding template\n",
    "# You can choose between exampleMR_3mm.yaml and exampleMR_5mm.yaml\n",
    "params = os.path.join(datapyr,  'examples', 'exampleSettings', 'exampleMR_3mm.yaml')\n",
    "\n",
    "# This instantiates the extractor based on your selected template\n",
    "extractor = featureextractor.RadiomicsFeatureExtractor(params)\n",
    "\n",
    "# This will print out all the enabled filters and features.\n",
    "print('Extraction parameters:\\n\\t', extractor.settings)\n",
    "print('Enabled filters:\\n\\t', extractor.enabledImagetypes)\n",
    "print('Enabled features:\\n\\t', extractor.enabledFeatures)\n",
    "print()\n",
    "\n",
    "# Create dictionary to store features from each group of tumor grade\n",
    "features= {}\n",
    "benign_features = {}\n",
    "low_grade_features = {}\n",
    "med_grade_features = {}\n",
    "high_grade_features = {}\n",
    "\n",
    "\n",
    "# for loop run through each patient to extract features.\n",
    "# First, load in the MRI file using sitk.ReadImage. Then load the corresponding mask.\n",
    "# Then set the mask direction and origin to that of the MR image.\n",
    "# For each patient, we get the id and use that to get the gleason score/PSA/UCLA Likert score\n",
    "# Then we classify the patient into corresponding tumor grade.\n",
    "# Then we extract and store the features as well as PSA and Likert scores in the dictionary.\n",
    "\n",
    "for i in range(0, len(each_MR_path)):\n",
    "\n",
    "    try:\n",
    "\n",
    "        image = sitk.ReadImage(each_MR_path[i])\n",
    "\n",
    "        mask = sitk.ReadImage(each_stl_path[i])\n",
    "        mask.SetDirection(image.GetDirection())\n",
    "        mask.SetOrigin(image.GetOrigin())\n",
    "\n",
    "        id = getidfrommr(each_MR_path[i])\n",
    "        gleason = getgleasonfromid(id)\n",
    "        ucla = getuclafromid(id)\n",
    "        psa = getpsafromid(id)\n",
    "\n",
    "        if (gleason == 0).all():\n",
    "            benign_features[id] = extractor.execute(image, mask)\n",
    "            benign_features[id]['ucla'] = ucla\n",
    "            benign_features[id]['PSA'] = psa\n",
    "        elif (gleason  == 6).all():\n",
    "            low_grade_features[id] = extractor.execute(image, mask)\n",
    "            low_grade_features[id]['ucla'] = ucla\n",
    "            low_grade_features[id]['PSA'] = psa\n",
    "        elif (gleason == 7).all():\n",
    "            med_grade_features[id] = extractor.execute(image, mask)\n",
    "            med_grade_features[id]['ucla'] = ucla\n",
    "            med_grade_features[id]['PSA'] = psa\n",
    "        elif (gleason ==  8).all():\n",
    "            high_grade_features[id] = extractor.execute(image, mask)\n",
    "            high_grade_features[id]['ucla'] = ucla\n",
    "            high_grade_features[id]['PSA'] = psa\n",
    "\n",
    "        print('Done', i)\n",
    "\n",
    "    except ValueError as e:\n",
    "        if len(e.args) > 0 and 'Size of the ROI is too small' in e.args[0]:\n",
    "            pass\n",
    "        else:\n",
    "            print(e.args[0])\n",
    "            raise e\n",
    "\n",
    "features['Benign features'] = benign_features\n",
    "features['Low risk features'] = low_grade_features\n",
    "features['Med risk features'] = med_grade_features\n",
    "features['High risk features'] = high_grade_features"
   ]
  },
  {
   "cell_type": "code",
   "execution_count": null,
   "metadata": {
    "pycharm": {
     "name": "#%%\n"
    }
   },
   "outputs": [],
   "source": [
    "# Make sure you save the features into either pickle file or csv file\n",
    "import pickle\n",
    "feature_filename =\n",
    "\n",
    "with open(feature_filename,'wb') as pickle_file:\n",
    "    pickle.dump(features, pickle_file)\n",
    "\n",
    "\n"
   ]
  },
  {
   "cell_type": "code",
   "execution_count": null,
   "metadata": {
    "pycharm": {
     "name": "#%%\n"
    }
   },
   "outputs": [],
   "source": [
    "# Move on to feature selection and classification\n",
    "\n",
    "\n"
   ]
  }
 ],
 "metadata": {
  "kernelspec": {
   "display_name": "PyCharm (pythonProject2)",
   "language": "python",
   "name": "pycharm-68b423eb"
  },
  "language_info": {
   "codemirror_mode": {
    "name": "ipython",
    "version": 2
   },
   "file_extension": ".py",
   "mimetype": "text/x-python",
   "name": "python",
   "nbconvert_exporter": "python",
   "pygments_lexer": "ipython2",
   "version": "2.7.6"
  }
 },
 "nbformat": 4,
 "nbformat_minor": 1
}
